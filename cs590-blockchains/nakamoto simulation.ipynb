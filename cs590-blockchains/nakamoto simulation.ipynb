{
 "cells": [
  {
   "cell_type": "code",
   "execution_count": 17,
   "metadata": {},
   "outputs": [],
   "source": [
    "import numpy as np\n",
    "import pandas as pd\n",
    "import math as m\n",
    "from collections import defaultdict"
   ]
  },
  {
   "cell_type": "markdown",
   "metadata": {},
   "source": [
    "---\n",
    "\n",
    "## Function to simulate catching up from k blocks deep, given beta probability of attacker getting the block."
   ]
  },
  {
   "cell_type": "code",
   "execution_count": 18,
   "metadata": {},
   "outputs": [],
   "source": [
    "def probability_of_attack(adversarial_power: float, depth: int) -> float:\n",
    "    '''\n",
    "    Takes in adversarial power and depth and gives back probability that\n",
    "    attack is successful (i.e., new longest chain is formed.\n",
    "    '''\n",
    "    honest_power = 1 - adversarial_power\n",
    "    poisson_param = depth*(adversarial_power/honest_power)\n",
    "    exp_poisson = np.exp(-poisson_param)\n",
    "\n",
    "    return_prob = 1\n",
    "\n",
    "    counter = 0\n",
    "    while counter <= depth:\n",
    "        return_prob -= (((poisson_param**counter)*exp_poisson)/m.factorial(counter))*(1 - ((adversarial_power/honest_power)**(depth-counter)))\n",
    "\n",
    "        counter += 1\n",
    "\n",
    "    return return_prob"
   ]
  },
  {
   "cell_type": "code",
   "execution_count": 24,
   "metadata": {},
   "outputs": [
    {
     "data": {
      "text/html": [
       "<div>\n",
       "<style scoped>\n",
       "    .dataframe tbody tr th:only-of-type {\n",
       "        vertical-align: middle;\n",
       "    }\n",
       "\n",
       "    .dataframe tbody tr th {\n",
       "        vertical-align: top;\n",
       "    }\n",
       "\n",
       "    .dataframe thead th {\n",
       "        text-align: right;\n",
       "    }\n",
       "</style>\n",
       "<table border=\"1\" class=\"dataframe\">\n",
       "  <thead>\n",
       "    <tr style=\"text-align: right;\">\n",
       "      <th></th>\n",
       "      <th>beta = 0.3</th>\n",
       "      <th>beta = 0.45</th>\n",
       "    </tr>\n",
       "    <tr>\n",
       "      <th>depth</th>\n",
       "      <th></th>\n",
       "      <th></th>\n",
       "    </tr>\n",
       "  </thead>\n",
       "  <tbody>\n",
       "    <tr>\n",
       "      <th>5</th>\n",
       "      <td>0.177352</td>\n",
       "      <td>0.789786</td>\n",
       "    </tr>\n",
       "    <tr>\n",
       "      <th>10</th>\n",
       "      <td>0.041660</td>\n",
       "      <td>0.685424</td>\n",
       "    </tr>\n",
       "    <tr>\n",
       "      <th>15</th>\n",
       "      <td>0.010101</td>\n",
       "      <td>0.604147</td>\n",
       "    </tr>\n",
       "    <tr>\n",
       "      <th>20</th>\n",
       "      <td>0.002480</td>\n",
       "      <td>0.536554</td>\n",
       "    </tr>\n",
       "  </tbody>\n",
       "</table>\n",
       "</div>"
      ],
      "text/plain": [
       "       beta = 0.3  beta = 0.45\n",
       "depth                         \n",
       "5        0.177352     0.789786\n",
       "10       0.041660     0.685424\n",
       "15       0.010101     0.604147\n",
       "20       0.002480     0.536554"
      ]
     },
     "execution_count": 24,
     "metadata": {},
     "output_type": "execute_result"
    }
   ],
   "source": [
    "depths = [5, 10, 15, 20]\n",
    "betas = [0.3, 0.45]\n",
    "df_dict = defaultdict(lambda: [], {})\n",
    "\n",
    "for k in depths:\n",
    "    df_dict['depth'].append(k)\n",
    "    for b in betas:\n",
    "        df_dict['beta = ' + str(b)].append(probability_of_attack(b, k))\n",
    "\n",
    "pd.DataFrame(df_dict).set_index(['depth'])\n"
   ]
  },
  {
   "cell_type": "markdown",
   "metadata": {},
   "source": [
    "---\n",
    "\n",
    "## Function to do the same as above except with the adversary being able to delay blocks by 3 time units."
   ]
  }
 ],
 "metadata": {
  "kernelspec": {
   "display_name": "Python 3.9.2 64-bit",
   "language": "python",
   "name": "python3"
  },
  "language_info": {
   "codemirror_mode": {
    "name": "ipython",
    "version": 3
   },
   "file_extension": ".py",
   "mimetype": "text/x-python",
   "name": "python",
   "nbconvert_exporter": "python",
   "pygments_lexer": "ipython3",
   "version": "3.9.2"
  },
  "orig_nbformat": 4,
  "vscode": {
   "interpreter": {
    "hash": "aee8b7b246df8f9039afb4144a1f6fd8d2ca17a180786b69acc140d282b71a49"
   }
  }
 },
 "nbformat": 4,
 "nbformat_minor": 2
}
